{
 "cells": [
  {
   "cell_type": "markdown",
   "metadata": {},
   "source": [
    "![](https://seeklogo.com/images/N/nba-75-years-logo-7E38B318A3-seeklogo.com.png)\n",
    "# **Project Proposal**\n",
    "## CPSC322 Final Project\n",
    "### Everett Johnson\n",
    "### Luke Martin\n",
    "### April 3, 2022\n",
    "### NBA Team Success Predictor"
   ]
  },
  {
   "cell_type": "markdown",
   "metadata": {},
   "source": [
    "#### **Project Overview**:\n",
    "As passionate sports fans, we would like to pursue the extremely difficult task of finding patterns in the chaos of sports. In light of the Los Angeles Lakers missing the NBA playoffs after being a pre-season championship contender, we seek to create and deploy a model that will predict a team’s success given the stats of all the rostered players from the previous season. We have an idea for developing our own stat that will contain information about the rostered players that takes into account minutes played, age, and win contribution. The stat is discussed further below.\n",
    "\n",
    "The class we want to predict for a team is its success given a roster. Success can be determined by number of wins. Since we want a classification task, we are going to discretize the wins number for a team, and try to predict that label for unseen instances. Following the scope of the project, we are going to train and test multiple classifying models in attempt to find the best one. Once found, we will deploy it so hypothetical rosters can be constructed and their win totals can be predicted."
   ]
  },
  {
   "cell_type": "markdown",
   "metadata": {},
   "source": [
    "#### **Dataset Description**:\n",
    "The data for our project will be gathered from [basketball-reference](https://www.basketball-reference.com/). The statistics we need for this project are already available in a nice, clean format that is ready to use. We will have two main sources of data: player stats and team records. We will be using either the Pandas library or our own implemented MyPyTable to load in the data and make it usable for our purpose. This will involve combining thirty years worth of player and team data, and then using methods such as groupby to combine the data. Some of the main stats we will be using, but not limited to, are below.\n",
    "\n",
    "**Player Stats**\n",
    "* Name\n",
    "* Age\n",
    "* Team (Used for groupby)\n",
    "* MPG - Minutes Per Game\n",
    "* PPG - Points Per Game\n",
    "* APG - Assists Per Game\n",
    "* RPB - Rebounds Per Game\n",
    "* FG/FT/3PT% - Field Goal/Free Throw/Three Point Percentage\n",
    "* eFG% - Effective Field Goal Percentage\n",
    "\n",
    "**Team Records** \n",
    "* Team\n",
    "* Record\n",
    "* Home\n",
    "* Away\n",
    "\n",
    "#### **Custom Stat Implementation**\n",
    "One of the more challenging parts of our project will be creating a dataset that contains all the information we want that a model can learn from. We are attempting to numerically describe a team based upon the statistics of each of its players. Since we are trying to use this information in a classification task, we need each team/year pair to have on instance associated with it. Namely, we need to combine the statistics of all players on a roster into a set number of attribute values. This is difficult as many rosters have different numbers of players and minutes vary for all of the players on those rosters. For example, we don’t want a 40-year old Udonis Haslem’s stats to negatively affect the prediction for the Miami Heat’s success when he is consistently not playing in any games. On the other end, Nikola Jokic’s stats should positively affect the Nugget’s success prediction as he is playing close to 40 minutes a game. The idea is to take every player stat and combine them into one weighted stat per team. For a team with n players, each of them playing ni minutes, we would compute the team’s weighted stat, x, as:\n",
    "$$x_{weighted} = \\frac{\\sum^{n}_{i=0} \\frac{m_i}{t} x_i}{n} $$\n",
    "where $m_i$ is each player's minutes per game stat and $t$ is the minutes in a game.\n",
    "\n",
    "#### **Impacts**\n",
    "The main two serious applications of this model would be roster construction for NBA front offices and for decision making for sports bettors. If a successful enough model is created, the predictions for next season’s teams can be used to place bets on teams making and missing playoffs. Sports gambling is a multi-billion dollar industry, so any classifier that could make accurate sports predictions would be invaluable in this field. It would also satisfy fan's creative imaginations allowing them to combine players from different eras onto rosters to see how the team would play out. For example, Michael Jordan and LeBron could be on a team and its success could be predicted. \n"
   ]
  }
 ],
 "metadata": {
  "language_info": {
   "name": "python"
  },
  "orig_nbformat": 4
 },
 "nbformat": 4,
 "nbformat_minor": 2
}
