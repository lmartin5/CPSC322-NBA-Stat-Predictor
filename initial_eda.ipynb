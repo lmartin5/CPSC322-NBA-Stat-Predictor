{
 "cells": [
  {
   "cell_type": "markdown",
   "metadata": {},
   "source": [
    "![](https://seeklogo.com/images/N/nba-75-years-logo-7E38B318A3-seeklogo.com.png)\n",
    "\n",
    "# **Initial EDA**\n",
    "## CPSC322 Final Project\n",
    "### Everett Johnson\n",
    "### Luke Martin\n",
    "### April 18, 2022\n",
    "### NBA Team Success Predictor"
   ]
  },
  {
   "cell_type": "code",
   "execution_count": 1,
   "metadata": {},
   "outputs": [],
   "source": [
    "import matplotlib.pyplot as plt\n",
    "import os\n",
    "from mysklearn.mypytable import MyPyTable\n",
    "import mysklearn.myevaluation as myeval\n",
    "from mysklearn.myclassifiers import MyKNeighborsClassifier, MyNaiveBayesClassifier, MyDummyClassifier, MyDecisionTreeClassifier\n",
    "from mysklearn.myensembleclassifiers import MyRandomForestClassifier\n",
    "\n",
    "file_loc = os.path.join(\"input_data\", \"processed_data\", \"team_info.csv\")\n",
    "team_data = MyPyTable().load_from_file(file_loc)\n",
    "\n",
    "win_percentage = team_data.get_column(\"Win Percentage\")\n",
    "#plt.figure()\n",
    "#plt.hist(win_percentage, bins=5)\n",
    "#plt.show()\n",
    "\n",
    "file_loc = os.path.join(\"input_data\", \"processed_data\", \"team_stats.csv\")\n",
    "team_stats = MyPyTable().load_from_file(file_loc)\n",
    "\n",
    "jppg = team_stats.get_column(\"JPPG\")\n",
    "#plt.figure()\n",
    "#plt.hist(jppg, bins=10)\n",
    "#plt.show()\n",
    "#\n",
    "trb = team_stats.get_column(\"TRB\")\n",
    "#plt.figure()\n",
    "#plt.title(\"TRB\")\n",
    "#plt.hist(trb, bins=5)\n",
    "#plt.show()\n",
    "#\n",
    "ast = team_stats.get_column(\"AST\")\n",
    "#plt.figure()\n",
    "#plt.title(\"AST\")\n",
    "#plt.hist(ast, bins=5)\n",
    "#plt.show()\n"
   ]
  },
  {
   "cell_type": "code",
   "execution_count": null,
   "metadata": {},
   "outputs": [],
   "source": [
    "y = team_stats.get_column(\"Success\")\n",
    "team_stats.drop_column(\"Success\")\n",
    "team_stats.drop_column(\"Team\")\n",
    "team_stats.drop_column(\"Season\")\n",
    "print(team_stats.column_names)\n",
    "X = team_stats.data"
   ]
  },
  {
   "cell_type": "code",
   "execution_count": null,
   "metadata": {},
   "outputs": [],
   "source": [
    "from tabulate import tabulate\n",
    "knn = MyKNeighborsClassifier(10)\n",
    "print(\"KFold Acc:\", myeval.kfold_accuracy(X, y, knn, n_splits=10, random_state=0))\n",
    "print(tabulate(myeval.kfold_confusion_matrix(X, y, [1, 2, 3, 4, 5], knn, n_splits=10, random_state=0)))\n",
    "dummy = MyDummyClassifier()\n",
    "print(\"Dummy Acc:\", myeval.kfold_accuracy(X, y, dummy, n_splits=10,random_state=0))"
   ]
  },
  {
   "cell_type": "code",
   "execution_count": null,
   "metadata": {},
   "outputs": [],
   "source": [
    "from tabulate import tabulate\n",
    "forest = MyRandomForestClassifier(100, 10, 3)\n",
    "print(\"Forest Acc:\", myeval.kfold_accuracy(X, y, forest, n_splits=3, random_state=0))\n",
    "print(tabulate(myeval.kfold_confusion_matrix(X, y, [1, 2, 3, 4, 5], forest, n_splits=3, random_state=0)))"
   ]
  },
  {
   "cell_type": "code",
   "execution_count": null,
   "metadata": {},
   "outputs": [],
   "source": [
    "from tabulate import tabulate\n",
    "tree = MyDecisionTreeClassifier()\n",
    "\n",
    "header = [\"att\" + str(i) for i in range(len(X[0]))] + [\"class\"]\n",
    "# storing data in MyPyTable object for access to functions there\n",
    "train_data = [X[i] + [y[i]] for i in range(len(X))]\n",
    "team_data_ii = MyPyTable(header, train_data)\n",
    "attrib_domains = {}\n",
    "for attribute in header:\n",
    "    attrib_domains[attribute] = team_data_ii.get_atttribute_domain(attribute)\n",
    "tree.attribute_domains = attrib_domains\n",
    "\n",
    "print(\"Tree Acc:\", myeval.kfold_accuracy(X, y, tree, n_splits=3, random_state=0))\n",
    "print(tabulate(myeval.kfold_confusion_matrix(X, y, [1, 2, 3, 4, 5], tree, n_splits=3)))"
   ]
  },
  {
   "cell_type": "code",
   "execution_count": null,
   "metadata": {},
   "outputs": [],
   "source": [
    "from tabulate import tabulate\n",
    "nb = MyNaiveBayesClassifier()\n",
    "print(\"NB Acc:\", myeval.kfold_accuracy(X, y, nb, n_splits=3, random_state=0))\n",
    "print(tabulate(myeval.kfold_confusion_matrix(X, y, [1, 2, 3, 4, 5], nb, n_splits=3, random_state=0)))"
   ]
  }
 ],
 "metadata": {
  "interpreter": {
   "hash": "726d17c94f131e8c51a17b9bf693dc7f4927c653762bff78651947da432f672d"
  },
  "kernelspec": {
   "display_name": "Python 3.9.7 ('base')",
   "language": "python",
   "name": "python3"
  },
  "language_info": {
   "codemirror_mode": {
    "name": "ipython",
    "version": 3
   },
   "file_extension": ".py",
   "mimetype": "text/x-python",
   "name": "python",
   "nbconvert_exporter": "python",
   "pygments_lexer": "ipython3",
   "version": "3.9.7"
  },
  "orig_nbformat": 4
 },
 "nbformat": 4,
 "nbformat_minor": 2
}
