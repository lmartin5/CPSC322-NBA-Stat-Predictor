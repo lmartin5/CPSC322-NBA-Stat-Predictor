{
 "cells": [
  {
   "cell_type": "markdown",
   "metadata": {},
   "source": [
    "![](https://seeklogo.com/images/N/nba-75-years-logo-7E38B318A3-seeklogo.com.png)\n",
    "\n",
    "# **Initial EDA**\n",
    "## CPSC322 Final Project\n",
    "### Everett Johnson\n",
    "### Luke Martin\n",
    "### April 18, 2022\n",
    "### NBA Team Success Predictor"
   ]
  },
  {
   "cell_type": "code",
   "execution_count": 1,
   "metadata": {},
   "outputs": [],
   "source": [
    "import matplotlib.pyplot as plt\n",
    "import os\n",
    "from mysklearn.mypytable import MyPyTable\n",
    "import mysklearn.myevaluation as myeval\n",
    "from mysklearn.myclassifiers import MyKNeighborsClassifier, MyNaiveBayesClassifier, MyDummyClassifier, MyDecisionTreeClassifier\n",
    "from mysklearn.myensembleclassifiers import MyRandomForestClassifier\n",
    "\n",
    "file_loc = os.path.join(\"input_data\", \"processed_data\", \"team_info.csv\")\n",
    "team_data = MyPyTable().load_from_file(file_loc)\n",
    "\n",
    "win_percentage = team_data.get_column(\"Win Percentage\")\n",
    "#plt.figure()\n",
    "#plt.hist(win_percentage, bins=5)\n",
    "#plt.show()\n",
    "\n",
    "file_loc = os.path.join(\"input_data\", \"processed_data\", \"team_stats.csv\")\n",
    "team_stats = MyPyTable().load_from_file(file_loc)\n",
    "\n",
    "jppg = team_stats.get_column(\"JPPG\")\n",
    "#plt.figure()\n",
    "#plt.hist(jppg, bins=10)\n",
    "#plt.show()\n",
    "#\n",
    "trb = team_stats.get_column(\"TRB\")\n",
    "#plt.figure()\n",
    "#plt.title(\"TRB\")\n",
    "#plt.hist(trb, bins=5)\n",
    "#plt.show()\n",
    "#\n",
    "ast = team_stats.get_column(\"AST\")\n",
    "#plt.figure()\n",
    "#plt.title(\"AST\")\n",
    "#plt.hist(ast, bins=5)\n",
    "#plt.show()\n"
   ]
  },
  {
   "cell_type": "code",
   "execution_count": 2,
   "metadata": {},
   "outputs": [
    {
     "name": "stdout",
     "output_type": "stream",
     "text": [
      "['JPPG', 'TRB', 'AST', 'FG', '3FG']\n"
     ]
    }
   ],
   "source": [
    "y = team_stats.get_column(\"Success\")\n",
    "team_stats.drop_column(\"Success\")\n",
    "team_stats.drop_column(\"Team\")\n",
    "team_stats.drop_column(\"Season\")\n",
    "print(team_stats.column_names)\n",
    "X = team_stats.data"
   ]
  },
  {
   "cell_type": "code",
   "execution_count": 3,
   "metadata": {},
   "outputs": [
    {
     "name": "stdout",
     "output_type": "stream",
     "text": [
      "KFold Acc: 0.423841059602649\n",
      "-  -  --  ---  ---  --  -----  ---------------\n",
      "   1   2    3    4   5  Total  Recognition (%)\n",
      "1  7  25   20    5   0  57     12\n",
      "2  7  58  101   21   0  187    31\n",
      "3  2  53  168   77   6  306    55\n",
      "4  0  19  110  135  10  274    49\n",
      "5  0   1   25   40  16  82     20\n",
      "-  -  --  ---  ---  --  -----  ---------------\n",
      "Dummy Acc: 0.33774834437086093\n"
     ]
    }
   ],
   "source": [
    "from tabulate import tabulate\n",
    "knn = MyKNeighborsClassifier(10)\n",
    "print(\"KFold Acc:\", myeval.kfold_accuracy(X, y, knn, n_splits=10, random_state=0))\n",
    "print(tabulate(myeval.kfold_confusion_matrix(X, y, [1, 2, 3, 4, 5], knn, n_splits=10, random_state=0)))\n",
    "dummy = MyDummyClassifier()\n",
    "print(\"Dummy Acc:\", myeval.kfold_accuracy(X, y, dummy, n_splits=10,random_state=0))"
   ]
  },
  {
   "cell_type": "code",
   "execution_count": 4,
   "metadata": {},
   "outputs": [
    {
     "name": "stdout",
     "output_type": "stream",
     "text": [
      "Forest Acc: 0.39072847682119205\n",
      "-  -  --  ---  ---  -  -----  ---------------\n",
      "   1   2    3    4  5  Total  Recognition (%)\n",
      "1  3  24   25    5  0  57     5\n",
      "2  2  63   86   36  0  187    34\n",
      "3  2  63  155   85  1  306    51\n",
      "4  0  21  108  140  5  274    51\n",
      "5  0   7   22   46  7  82     9\n",
      "-  -  --  ---  ---  -  -----  ---------------\n"
     ]
    }
   ],
   "source": [
    "from tabulate import tabulate\n",
    "forest = MyRandomForestClassifier(100, 10, 3)\n",
    "print(\"Forest Acc:\", myeval.kfold_accuracy(X, y, forest, n_splits=3, random_state=0))\n",
    "print(tabulate(myeval.kfold_confusion_matrix(X, y, [1, 2, 3, 4, 5], forest, n_splits=3, random_state=0)))"
   ]
  },
  {
   "cell_type": "code",
   "execution_count": 5,
   "metadata": {},
   "outputs": [
    {
     "name": "stdout",
     "output_type": "stream",
     "text": [
      "Tree Acc: 0.38079470198675497\n",
      "-  -  --  ---  --  -  -----  ---------------\n",
      "   1   2    3   4  5  Total  Recognition (%)\n",
      "1  0  21   36   0  0  57     0\n",
      "2  0  40  139   8  0  187    21\n",
      "3  3  28  231  44  0  306    75\n",
      "4  1   1  209  62  1  274    23\n",
      "5  0   0   51  30  1  82     1\n",
      "-  -  --  ---  --  -  -----  ---------------\n"
     ]
    }
   ],
   "source": [
    "from tabulate import tabulate\n",
    "tree = MyDecisionTreeClassifier()\n",
    "\n",
    "header = [\"att\" + str(i) for i in range(len(X[0]))] + [\"class\"]\n",
    "# storing data in MyPyTable object for access to functions there\n",
    "train_data = [X[i] + [y[i]] for i in range(len(X))]\n",
    "team_data_ii = MyPyTable(header, train_data)\n",
    "attrib_domains = {}\n",
    "for attribute in header:\n",
    "    attrib_domains[attribute] = team_data_ii.get_atttribute_domain(attribute)\n",
    "tree.attribute_domains = attrib_domains\n",
    "\n",
    "print(\"Tree Acc:\", myeval.kfold_accuracy(X, y, tree, n_splits=3, random_state=0))\n",
    "print(tabulate(myeval.kfold_confusion_matrix(X, y, [1, 2, 3, 4, 5], tree, n_splits=3)))"
   ]
  },
  {
   "cell_type": "code",
   "execution_count": 6,
   "metadata": {},
   "outputs": [
    {
     "name": "stdout",
     "output_type": "stream",
     "text": [
      "NB Acc: 0.4304635761589404\n",
      "-  --  --  ---  ---  --  -----  ---------------\n",
      "    1   2    3    4   5  Total  Recognition (%)\n",
      "1  24  18   11    4   0  57     42\n",
      "2  23  57   79   27   1  187    30\n",
      "3  14  53  149   82   8  306    49\n",
      "4   1  13   88  148  24  274    54\n",
      "5   0   0   13   57  12  82     15\n",
      "-  --  --  ---  ---  --  -----  ---------------\n"
     ]
    }
   ],
   "source": [
    "from tabulate import tabulate\n",
    "nb = MyNaiveBayesClassifier()\n",
    "print(\"NB Acc:\", myeval.kfold_accuracy(X, y, nb, n_splits=3, random_state=0))\n",
    "print(tabulate(myeval.kfold_confusion_matrix(X, y, [1, 2, 3, 4, 5], nb, n_splits=3, random_state=0)))"
   ]
  }
 ],
 "metadata": {
  "interpreter": {
   "hash": "726d17c94f131e8c51a17b9bf693dc7f4927c653762bff78651947da432f672d"
  },
  "kernelspec": {
   "display_name": "Python 3.9.7 ('base')",
   "language": "python",
   "name": "python3"
  },
  "language_info": {
   "codemirror_mode": {
    "name": "ipython",
    "version": 3
   },
   "file_extension": ".py",
   "mimetype": "text/x-python",
   "name": "python",
   "nbconvert_exporter": "python",
   "pygments_lexer": "ipython3",
   "version": "3.9.7"
  },
  "orig_nbformat": 4
 },
 "nbformat": 4,
 "nbformat_minor": 2
}
