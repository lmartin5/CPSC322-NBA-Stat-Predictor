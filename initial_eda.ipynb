{
 "cells": [
  {
   "cell_type": "markdown",
   "metadata": {},
   "source": [
    "![](https://seeklogo.com/images/N/nba-75-years-logo-7E38B318A3-seeklogo.com.png)\n",
    "\n",
    "# **Initial EDA**\n",
    "## CPSC322 Final Project\n",
    "### Everett Johnson\n",
    "### Luke Martin\n",
    "### April 18, 2022\n",
    "### NBA Team Success Predictor"
   ]
  }
 ],
 "metadata": {
  "language_info": {
   "name": "python"
  },
  "orig_nbformat": 4
 },
 "nbformat": 4,
 "nbformat_minor": 2
}
