{
 "cells": [
  {
   "cell_type": "markdown",
   "metadata": {},
   "source": [
    "![](https://seeklogo.com/images/N/nba-75-years-logo-7E38B318A3-seeklogo.com.png)\n",
    "\n",
    "# **Initial EDA**\n",
    "## CPSC322 Final Project\n",
    "### Everett Johnson\n",
    "### Luke Martin\n",
    "### April 18, 2022\n",
    "### NBA Team Success Predictor"
   ]
  },
  {
   "cell_type": "code",
   "execution_count": 1,
   "metadata": {},
   "outputs": [],
   "source": [
    "import matplotlib.pyplot as plt\n",
    "import os\n",
    "from mysklearn.mypytable import MyPyTable\n",
    "import mysklearn.myevaluation as myeval\n",
    "from mysklearn.myclassifiers import MyKNeighborsClassifier, MyNaiveBayesClassifier, MyDummyClassifier\n",
    "\n",
    "file_loc = os.path.join(\"input_data\", \"processed_data\", \"team_info.csv\")\n",
    "team_data = MyPyTable().load_from_file(file_loc)\n",
    "\n",
    "win_percentage = team_data.get_column(\"Win Percentage\")\n",
    "#plt.figure()\n",
    "#plt.hist(win_percentage, bins=5)\n",
    "#plt.show()\n",
    "\n",
    "file_loc = os.path.join(\"input_data\", \"processed_data\", \"team_stats.csv\")\n",
    "team_stats = MyPyTable().load_from_file(file_loc)\n",
    "\n",
    "jppg = team_stats.get_column(\"JPPG\")\n",
    "#plt.figure()\n",
    "#plt.hist(jppg, bins=10)\n",
    "#plt.show()\n",
    "#\n",
    "trb = team_stats.get_column(\"TRB\")\n",
    "#plt.figure()\n",
    "#plt.title(\"TRB\")\n",
    "#plt.hist(trb, bins=5)\n",
    "#plt.show()\n",
    "#\n",
    "ast = team_stats.get_column(\"AST\")\n",
    "#plt.figure()\n",
    "#plt.title(\"AST\")\n",
    "#plt.hist(ast, bins=5)\n",
    "#plt.show()\n"
   ]
  },
  {
   "cell_type": "code",
   "execution_count": 2,
   "metadata": {},
   "outputs": [],
   "source": [
    "y = team_stats.get_column(\"Success\")\n",
    "team_stats.drop_column(\"Success\")\n",
    "team_stats.drop_column(\"Team\")\n",
    "team_stats.drop_column(\"Season\")\n",
    "X = team_stats.data"
   ]
  },
  {
   "cell_type": "code",
   "execution_count": 4,
   "metadata": {},
   "outputs": [
    {
     "name": "stdout",
     "output_type": "stream",
     "text": [
      "KFold Acc: 0.6810154525386314\n",
      "-  ---  ---  -  -  -  -----  ---------------\n",
      "     1    2  3  4  5  Total  Recognition (%)\n",
      "1  227  173  0  0  0  400    56\n",
      "2  116  390  0  0  0  506    77\n",
      "3    0    0  0  0  0  0      0\n",
      "4    0    0  0  0  0  0      0\n",
      "5    0    0  0  0  0  0      0\n",
      "-  ---  ---  -  -  -  -----  ---------------\n",
      "Dummy Acc: 0.5584988962472406\n"
     ]
    }
   ],
   "source": [
    "from tabulate import tabulate\n",
    "knn = MyKNeighborsClassifier(10)\n",
    "print(\"KFold Acc:\", myeval.kfold_accuracy(X, y, knn, n_splits=10, random_state=0))\n",
    "print(tabulate(myeval.kfold_confusion_matrix(X, y, [1, 2, 3, 4, 5], knn, n_splits=10, random_state=0)))\n",
    "dummy = MyDummyClassifier()\n",
    "print(\"Dummy Acc:\", myeval.kfold_accuracy(X, y, dummy, n_splits=10,random_state=0))"
   ]
  }
 ],
 "metadata": {
  "interpreter": {
   "hash": "726d17c94f131e8c51a17b9bf693dc7f4927c653762bff78651947da432f672d"
  },
  "kernelspec": {
   "display_name": "Python 3.9.7 ('base')",
   "language": "python",
   "name": "python3"
  },
  "language_info": {
   "codemirror_mode": {
    "name": "ipython",
    "version": 3
   },
   "file_extension": ".py",
   "mimetype": "text/x-python",
   "name": "python",
   "nbconvert_exporter": "python",
   "pygments_lexer": "ipython3",
   "version": "3.9.7"
  },
  "orig_nbformat": 4
 },
 "nbformat": 4,
 "nbformat_minor": 2
}
